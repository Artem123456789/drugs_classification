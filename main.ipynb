{
 "cells": [
  {
   "cell_type": "code",
   "execution_count": 1,
   "id": "74eab76a-fbae-436e-b1c3-28d74485391e",
   "metadata": {},
   "outputs": [],
   "source": [
    "import numpy as np\n",
    "import pandas as pd\n",
    "import matplotlib.pyplot as plt\n",
    "import seaborn as sns"
   ]
  },
  {
   "cell_type": "code",
   "execution_count": 2,
   "id": "829d8904-6378-4d8b-abd2-a1f2545a7c1c",
   "metadata": {},
   "outputs": [],
   "source": [
    "df = pd.read_csv(\"./drug200.csv\")"
   ]
  },
  {
   "cell_type": "code",
   "execution_count": 3,
   "id": "5d9104db-8348-4c36-807b-9fddee85957d",
   "metadata": {},
   "outputs": [
    {
     "data": {
      "text/plain": [
       "(200, 6)"
      ]
     },
     "execution_count": 3,
     "metadata": {},
     "output_type": "execute_result"
    }
   ],
   "source": [
    "df.shape"
   ]
  },
  {
   "cell_type": "code",
   "execution_count": 4,
   "id": "6485eef1-0321-42cd-83ff-242ecaca1458",
   "metadata": {},
   "outputs": [
    {
     "data": {
      "text/html": [
       "<div>\n",
       "<style scoped>\n",
       "    .dataframe tbody tr th:only-of-type {\n",
       "        vertical-align: middle;\n",
       "    }\n",
       "\n",
       "    .dataframe tbody tr th {\n",
       "        vertical-align: top;\n",
       "    }\n",
       "\n",
       "    .dataframe thead th {\n",
       "        text-align: right;\n",
       "    }\n",
       "</style>\n",
       "<table border=\"1\" class=\"dataframe\">\n",
       "  <thead>\n",
       "    <tr style=\"text-align: right;\">\n",
       "      <th></th>\n",
       "      <th>Age</th>\n",
       "      <th>Sex</th>\n",
       "      <th>BP</th>\n",
       "      <th>Cholesterol</th>\n",
       "      <th>Na_to_K</th>\n",
       "      <th>Drug</th>\n",
       "    </tr>\n",
       "  </thead>\n",
       "  <tbody>\n",
       "    <tr>\n",
       "      <th>0</th>\n",
       "      <td>23</td>\n",
       "      <td>F</td>\n",
       "      <td>HIGH</td>\n",
       "      <td>HIGH</td>\n",
       "      <td>25.355</td>\n",
       "      <td>DrugY</td>\n",
       "    </tr>\n",
       "    <tr>\n",
       "      <th>1</th>\n",
       "      <td>47</td>\n",
       "      <td>M</td>\n",
       "      <td>LOW</td>\n",
       "      <td>HIGH</td>\n",
       "      <td>13.093</td>\n",
       "      <td>drugC</td>\n",
       "    </tr>\n",
       "    <tr>\n",
       "      <th>2</th>\n",
       "      <td>47</td>\n",
       "      <td>M</td>\n",
       "      <td>LOW</td>\n",
       "      <td>HIGH</td>\n",
       "      <td>10.114</td>\n",
       "      <td>drugC</td>\n",
       "    </tr>\n",
       "    <tr>\n",
       "      <th>3</th>\n",
       "      <td>28</td>\n",
       "      <td>F</td>\n",
       "      <td>NORMAL</td>\n",
       "      <td>HIGH</td>\n",
       "      <td>7.798</td>\n",
       "      <td>drugX</td>\n",
       "    </tr>\n",
       "    <tr>\n",
       "      <th>4</th>\n",
       "      <td>61</td>\n",
       "      <td>F</td>\n",
       "      <td>LOW</td>\n",
       "      <td>HIGH</td>\n",
       "      <td>18.043</td>\n",
       "      <td>DrugY</td>\n",
       "    </tr>\n",
       "  </tbody>\n",
       "</table>\n",
       "</div>"
      ],
      "text/plain": [
       "   Age Sex      BP Cholesterol  Na_to_K   Drug\n",
       "0   23   F    HIGH        HIGH   25.355  DrugY\n",
       "1   47   M     LOW        HIGH   13.093  drugC\n",
       "2   47   M     LOW        HIGH   10.114  drugC\n",
       "3   28   F  NORMAL        HIGH    7.798  drugX\n",
       "4   61   F     LOW        HIGH   18.043  DrugY"
      ]
     },
     "execution_count": 4,
     "metadata": {},
     "output_type": "execute_result"
    }
   ],
   "source": [
    "df.head()"
   ]
  },
  {
   "cell_type": "code",
   "execution_count": 5,
   "id": "9f139565-b0bd-4a3c-a0da-da3dd9a045ab",
   "metadata": {},
   "outputs": [
    {
     "name": "stdout",
     "output_type": "stream",
     "text": [
      "<class 'pandas.core.frame.DataFrame'>\n",
      "RangeIndex: 200 entries, 0 to 199\n",
      "Data columns (total 6 columns):\n",
      " #   Column       Non-Null Count  Dtype  \n",
      "---  ------       --------------  -----  \n",
      " 0   Age          200 non-null    int64  \n",
      " 1   Sex          200 non-null    object \n",
      " 2   BP           200 non-null    object \n",
      " 3   Cholesterol  200 non-null    object \n",
      " 4   Na_to_K      200 non-null    float64\n",
      " 5   Drug         200 non-null    object \n",
      "dtypes: float64(1), int64(1), object(4)\n",
      "memory usage: 9.5+ KB\n"
     ]
    }
   ],
   "source": [
    "df.info()"
   ]
  },
  {
   "cell_type": "code",
   "execution_count": 6,
   "id": "f872ba0e-e6bf-4f15-8468-a12a5fffc2ae",
   "metadata": {},
   "outputs": [
    {
     "data": {
      "text/plain": [
       "Age            0\n",
       "Sex            0\n",
       "BP             0\n",
       "Cholesterol    0\n",
       "Na_to_K        0\n",
       "Drug           0\n",
       "dtype: int64"
      ]
     },
     "execution_count": 6,
     "metadata": {},
     "output_type": "execute_result"
    }
   ],
   "source": [
    "df.isna().sum()"
   ]
  },
  {
   "cell_type": "code",
   "execution_count": 7,
   "id": "4a0f61c5-49f6-457b-90eb-2ec776490d29",
   "metadata": {},
   "outputs": [
    {
     "data": {
      "text/plain": [
       "<AxesSubplot:xlabel='Drug', ylabel='count'>"
      ]
     },
     "execution_count": 7,
     "metadata": {},
     "output_type": "execute_result"
    },
    {
     "data": {
      "image/png": "[encoded data removed]",
      "text/plain": [
       "<Figure size 432x288 with 1 Axes>"
      ]
     },
     "metadata": {
      "needs_background": "light"
     },
     "output_type": "display_data"
    }
   ],
   "source": [
    "sns.countplot(data=df, x=\"Drug\")"
   ]
  },
  {
   "cell_type": "code",
   "execution_count": 8,
   "id": "28dd588e-d736-4aef-958e-297af0a364da",
   "metadata": {},
   "outputs": [
    {
     "data": {
      "text/plain": [
       "<seaborn.axisgrid.FacetGrid at 0x1cc64c78340>"
      ]
     },
     "execution_count": 8,
     "metadata": {},
     "output_type": "execute_result"
    },
    {
     "data": {
      "image/png": "[encoded data removed]",
      "text/plain": [
       "<Figure size 360x360 with 1 Axes>"
      ]
     },
     "metadata": {
      "needs_background": "light"
     },
     "output_type": "display_data"
    }
   ],
   "source": [
    "sns.displot(data=df, x=\"Age\")"
   ]
  },
  {
   "cell_type": "code",
   "execution_count": 9,
   "id": "a4291d96-14fd-4770-88db-0eed29932006",
   "metadata": {},
   "outputs": [
    {
     "data": {
      "text/plain": [
       "<AxesSubplot:xlabel='Age'>"
      ]
     },
     "execution_count": 9,
     "metadata": {},
     "output_type": "execute_result"
    },
    {
     "data": {
      "image/png": "[encoded data removed]",
      "text/plain": [
       "<Figure size 432x288 with 1 Axes>"
      ]
     },
     "metadata": {
      "needs_background": "light"
     },
     "output_type": "display_data"
    }
   ],
   "source": [
    "sns.boxplot(data=df, x=\"Age\")"
   ]
  },
  {
   "cell_type": "code",
   "execution_count": 10,
   "id": "997bc5a2-3931-46c1-836b-e34ac1f992d0",
   "metadata": {},
   "outputs": [
    {
     "data": {
      "text/plain": [
       "<AxesSubplot:xlabel='Sex', ylabel='count'>"
      ]
     },
     "execution_count": 10,
     "metadata": {},
     "output_type": "execute_result"
    },
    {
     "data": {
      "image/png": "[encoded data removed]",
      "text/plain": [
       "<Figure size 432x288 with 1 Axes>"
      ]
     },
     "metadata": {
      "needs_background": "light"
     },
     "output_type": "display_data"
    }
   ],
   "source": [
    "sns.countplot(data=df, x=\"Sex\")"
   ]
  },
  {
   "cell_type": "code",
   "execution_count": 11,
   "id": "85b86c65-06c0-45b7-adcc-a3daf9e9b47d",
   "metadata": {},
   "outputs": [
    {
     "data": {
      "text/plain": [
       "<AxesSubplot:xlabel='BP', ylabel='count'>"
      ]
     },
     "execution_count": 11,
     "metadata": {},
     "output_type": "execute_result"
    },
    {
     "data": {
      "image/png": "[encoded data removed]",
      "text/plain": [
       "<Figure size 432x288 with 1 Axes>"
      ]
     },
     "metadata": {
      "needs_background": "light"
     },
     "output_type": "display_data"
    }
   ],
   "source": [
    "sns.countplot(data=df, x=\"BP\")"
   ]
  },
  {
   "cell_type": "code",
   "execution_count": 12,
   "id": "ddd173fe-f58e-452b-a0e9-cb7ef29e4cb7",
   "metadata": {},
   "outputs": [
    {
     "data": {
      "text/plain": [
       "<AxesSubplot:xlabel='Cholesterol', ylabel='count'>"
      ]
     },
     "execution_count": 12,
     "metadata": {},
     "output_type": "execute_result"
    },
    {
     "data": {
      "image/png": "[encoded data removed]",
      "text/plain": [
       "<Figure size 432x288 with 1 Axes>"
      ]
     },
     "metadata": {
      "needs_background": "light"
     },
     "output_type": "display_data"
    }
   ],
   "source": [
    "sns.countplot(data=df, x=\"Cholesterol\")"
   ]
  },
  {
   "cell_type": "code",
   "execution_count": 13,
   "id": "26b4248a-693f-4263-877d-5ed9f3b3ce1e",
   "metadata": {},
   "outputs": [
    {
     "data": {
      "text/plain": [
       "<seaborn.axisgrid.FacetGrid at 0x1cc64f195b0>"
      ]
     },
     "execution_count": 13,
     "metadata": {},
     "output_type": "execute_result"
    },
    {
     "data": {
      "image/png": "[encoded data removed]",
      "text/plain": [
       "<Figure size 360x360 with 1 Axes>"
      ]
     },
     "metadata": {
      "needs_background": "light"
     },
     "output_type": "display_data"
    }
   ],
   "source": [
    "sns.displot(data=df, x=\"Na_to_K\")"
   ]
  },
  {
   "cell_type": "code",
   "execution_count": 14,
   "id": "ef7bfb57-b8da-4c3b-ba13-80a340f47ac4",
   "metadata": {},
   "outputs": [
    {
     "data": {
      "text/plain": [
       "<AxesSubplot:xlabel='BP', ylabel='count'>"
      ]
     },
     "execution_count": 14,
     "metadata": {},
     "output_type": "execute_result"
    },
    {
     "data": {
      "image/png": "[encoded data removed]",
      "text/plain": [
       "<Figure size 432x288 with 1 Axes>"
      ]
     },
     "metadata": {
      "needs_background": "light"
     },
     "output_type": "display_data"
    }
   ],
   "source": [
    "sns.countplot(data=df, x=\"BP\", hue=\"Sex\")"
   ]
  },
  {
   "cell_type": "code",
   "execution_count": 15,
   "id": "ccece0ef-8d13-4608-a038-1dbb3bdff1ea",
   "metadata": {},
   "outputs": [
    {
     "data": {
      "text/plain": [
       "<AxesSubplot:xlabel='BP', ylabel='Age'>"
      ]
     },
     "execution_count": 15,
     "metadata": {},
     "output_type": "execute_result"
    },
    {
     "data": {
      "image/png": "[encoded data removed]",
      "text/plain": [
       "<Figure size 432x288 with 1 Axes>"
      ]
     },
     "metadata": {
      "needs_background": "light"
     },
     "output_type": "display_data"
    }
   ],
   "source": [
    "sns.boxplot(data=df, x=\"BP\", y=\"Age\")"
   ]
  },
  {
   "cell_type": "code",
   "execution_count": 16,
   "id": "0c39c598-9de2-43b8-b500-345f6f4430cc",
   "metadata": {},
   "outputs": [
    {
     "data": {
      "text/plain": [
       "<AxesSubplot:xlabel='BP', ylabel='count'>"
      ]
     },
     "execution_count": 16,
     "metadata": {},
     "output_type": "execute_result"
    },
    {
     "data": {
      "image/png": "[encoded data removed]",
      "text/plain": [
       "<Figure size 432x288 with 1 Axes>"
      ]
     },
     "metadata": {
      "needs_background": "light"
     },
     "output_type": "display_data"
    }
   ],
   "source": [
    "sns.countplot(data=df, x=\"BP\", hue=\"Cholesterol\")"
   ]
  },
  {
   "cell_type": "code",
   "execution_count": 17,
   "id": "c18c3458-2dd3-4d39-8f4d-e617e87acc85",
   "metadata": {},
   "outputs": [
    {
     "data": {
      "text/plain": [
       "<AxesSubplot:xlabel='BP', ylabel='Na_to_K'>"
      ]
     },
     "execution_count": 17,
     "metadata": {},
     "output_type": "execute_result"
    },
    {
     "data": {
      "image/png": "[encoded data removed]",
      "text/plain": [
       "<Figure size 864x648 with 1 Axes>"
      ]
     },
     "metadata": {
      "needs_background": "light"
     },
     "output_type": "display_data"
    }
   ],
   "source": [
    "f, ax = plt.subplots(1, figsize=(12,9))\n",
    "sns.boxplot(data=df, x=\"BP\", y=\"Na_to_K\", hue=\"Cholesterol\")"
   ]
  },
  {
   "cell_type": "code",
   "execution_count": 18,
   "id": "f74e4162-e670-4612-902b-ed924d02ef5c",
   "metadata": {},
   "outputs": [],
   "source": [
    "from sklearn.model_selection import train_test_split"
   ]
  },
  {
   "cell_type": "code",
   "execution_count": 19,
   "id": "9fe7ef65-71f7-4337-808b-2e22934d9f45",
   "metadata": {},
   "outputs": [],
   "source": [
    "label = \"Drug\"\n",
    "features = df.drop(columns=label, axis=1).columns"
   ]
  },
  {
   "cell_type": "code",
   "execution_count": 20,
   "id": "188b5141-0512-4604-beee-7b77487511c1",
   "metadata": {},
   "outputs": [],
   "source": [
    "x, y = df[features], df[label]"
   ]
  },
  {
   "cell_type": "code",
   "execution_count": 21,
   "id": "9de2a8dd-51f8-4a35-9582-381c99fc14c4",
   "metadata": {},
   "outputs": [],
   "source": [
    "x_train, x_test, y_train, y_test = train_test_split(x, y, test_size=0.3)"
   ]
  },
  {
   "cell_type": "code",
   "execution_count": 22,
   "id": "f7ea778c-90a8-407e-bb1d-aaf32eb10ced",
   "metadata": {},
   "outputs": [],
   "source": [
    "from sklearn.ensemble import RandomForestClassifier\n",
    "from sklearn.neighbors import KNeighborsClassifier\n",
    "from sklearn.svm import SVC\n",
    "from sklearn.preprocessing import StandardScaler, OneHotEncoder\n",
    "from sklearn.metrics import confusion_matrix, precision_score, recall_score, classification_report\n",
    "from sklearn.compose import ColumnTransformer\n",
    "from sklearn.pipeline import Pipeline"
   ]
  },
  {
   "cell_type": "code",
   "execution_count": 23,
   "id": "05430fa7-0328-45ab-8b4e-35a1554db282",
   "metadata": {},
   "outputs": [],
   "source": [
    "numeric = [\"Age\", \"Na_to_K\"]\n",
    "categorical = [\"Sex\", \"BP\", \"Cholesterol\"]"
   ]
  },
  {
   "cell_type": "code",
   "execution_count": 24,
   "id": "43400d74-fd93-41ff-b84d-814d25901b09",
   "metadata": {},
   "outputs": [],
   "source": [
    "numeric_transf = Pipeline(steps=[(\"scaler\", StandardScaler())])\n",
    "categorical_transf = OneHotEncoder(handle_unknown=\"ignore\")\n",
    "preprocessor = ColumnTransformer(transformers=[\n",
    "    (\"num\", numeric_transf, numeric),\n",
    "    (\"cat\", categorical_transf, categorical)\n",
    "])"
   ]
  },
  {
   "cell_type": "code",
   "execution_count": 25,
   "id": "7889077b-5a9f-4914-b8e7-a49d1919a5d3",
   "metadata": {},
   "outputs": [],
   "source": [
    "r_forest_pipe = Pipeline(steps=[\n",
    "    (\"preprocessor\", preprocessor),\n",
    "    (\"classifier\", RandomForestClassifier())\n",
    "])"
   ]
  },
  {
   "cell_type": "code",
   "execution_count": 26,
   "id": "78f17bff-023d-465f-ae41-afbcc6284f66",
   "metadata": {},
   "outputs": [],
   "source": [
    "r_forest_model = r_forest_pipe.fit(x_train, y_train)"
   ]
  },
  {
   "cell_type": "code",
   "execution_count": 27,
   "id": "7cb2b4c5-d197-416a-8477-dbe2209b9189",
   "metadata": {},
   "outputs": [],
   "source": [
    "r_forest_predictions = r_forest_model.predict(x_test)"
   ]
  },
  {
   "cell_type": "code",
   "execution_count": 28,
   "id": "9f98d494-e6a3-4e42-a04a-ed7786ed0afe",
   "metadata": {},
   "outputs": [
    {
     "data": {
      "text/plain": [
       "array([[23,  0,  0,  0,  0],\n",
       "       [ 0,  8,  0,  0,  0],\n",
       "       [ 0,  1,  4,  0,  0],\n",
       "       [ 0,  0,  0, 10,  0],\n",
       "       [ 0,  0,  0,  0, 14]], dtype=int64)"
      ]
     },
     "execution_count": 28,
     "metadata": {},
     "output_type": "execute_result"
    }
   ],
   "source": [
    "confusion_matrix(y_test, r_forest_predictions)"
   ]
  },
  {
   "cell_type": "code",
   "execution_count": 29,
   "id": "46eb5c1a-1a00-4736-9fe6-73d2ed83104e",
   "metadata": {},
   "outputs": [
    {
     "name": "stdout",
     "output_type": "stream",
     "text": [
      "              precision    recall  f1-score   support\n",
      "\n",
      "       DrugY       1.00      1.00      1.00        23\n",
      "       drugA       0.89      1.00      0.94         8\n",
      "       drugB       1.00      0.80      0.89         5\n",
      "       drugC       1.00      1.00      1.00        10\n",
      "       drugX       1.00      1.00      1.00        14\n",
      "\n",
      "    accuracy                           0.98        60\n",
      "   macro avg       0.98      0.96      0.97        60\n",
      "weighted avg       0.99      0.98      0.98        60\n",
      "\n"
     ]
    }
   ],
   "source": [
    "print(classification_report(y_test, r_forest_predictions))"
   ]
  },
  {
   "cell_type": "code",
   "execution_count": 30,
   "id": "468dd892-8cdb-49c4-9454-845f87e362cf",
   "metadata": {},
   "outputs": [],
   "source": [
    "knn_pipe = Pipeline(steps=[\n",
    "    (\"preprocessor\", preprocessor),\n",
    "    (\"classifier\", KNeighborsClassifier())\n",
    "])"
   ]
  },
  {
   "cell_type": "code",
   "execution_count": 31,
   "id": "9ff6f4df-f235-4424-893d-f21b28cb012f",
   "metadata": {},
   "outputs": [],
   "source": [
    "knn_model = knn_pipe.fit(x_train, y_train)"
   ]
  },
  {
   "cell_type": "code",
   "execution_count": 32,
   "id": "b4f998a1-68c5-464b-a201-43663b193d38",
   "metadata": {},
   "outputs": [],
   "source": [
    "knn_predictions = knn_model.predict(x_test)"
   ]
  },
  {
   "cell_type": "code",
   "execution_count": 33,
   "id": "d8b386c4-2bb5-499b-bbed-6f9633d3e339",
   "metadata": {},
   "outputs": [
    {
     "data": {
      "text/plain": [
       "array([[17,  0,  1,  0,  5],\n",
       "       [ 2,  6,  0,  0,  0],\n",
       "       [ 0,  1,  4,  0,  0],\n",
       "       [ 6,  0,  0,  4,  0],\n",
       "       [ 6,  0,  0,  0,  8]], dtype=int64)"
      ]
     },
     "execution_count": 33,
     "metadata": {},
     "output_type": "execute_result"
    }
   ],
   "source": [
    "confusion_matrix(y_test, knn_predictions)"
   ]
  },
  {
   "cell_type": "code",
   "execution_count": 34,
   "id": "f2431fe6-6a27-4664-9544-2880c7392ce8",
   "metadata": {},
   "outputs": [
    {
     "name": "stdout",
     "output_type": "stream",
     "text": [
      "              precision    recall  f1-score   support\n",
      "\n",
      "       DrugY       0.55      0.74      0.63        23\n",
      "       drugA       0.86      0.75      0.80         8\n",
      "       drugB       0.80      0.80      0.80         5\n",
      "       drugC       1.00      0.40      0.57        10\n",
      "       drugX       0.62      0.57      0.59        14\n",
      "\n",
      "    accuracy                           0.65        60\n",
      "   macro avg       0.76      0.65      0.68        60\n",
      "weighted avg       0.70      0.65      0.65        60\n",
      "\n"
     ]
    }
   ],
   "source": [
    "print(classification_report(y_test, knn_predictions))"
   ]
  },
  {
   "cell_type": "code",
   "execution_count": 35,
   "id": "53a73dca-5eff-4e8c-9a58-19392a019616",
   "metadata": {},
   "outputs": [],
   "source": [
    "svc_pipe = Pipeline(steps=[\n",
    "    (\"preprocessor\", preprocessor),\n",
    "    (\"classifier\", SVC())\n",
    "])"
   ]
  },
  {
   "cell_type": "code",
   "execution_count": 36,
   "id": "8e3b7fb5-2e51-4f05-b85f-c6dbe3fe4f23",
   "metadata": {},
   "outputs": [],
   "source": [
    "svc_model = svc_pipe.fit(x_train, y_train)"
   ]
  },
  {
   "cell_type": "code",
   "execution_count": 37,
   "id": "e91e570e-4f38-4cbc-b7ea-3bda072a5132",
   "metadata": {},
   "outputs": [],
   "source": [
    "svc_predictions = svc_model.predict(x_test)"
   ]
  },
  {
   "cell_type": "code",
   "execution_count": 38,
   "id": "65dcaa4f-2385-45e4-b382-e999081e4893",
   "metadata": {},
   "outputs": [
    {
     "data": {
      "text/plain": [
       "array([[21,  0,  1,  0,  1],\n",
       "       [ 0,  8,  0,  0,  0],\n",
       "       [ 0,  1,  4,  0,  0],\n",
       "       [ 4,  0,  0,  6,  0],\n",
       "       [ 1,  0,  0,  0, 13]], dtype=int64)"
      ]
     },
     "execution_count": 38,
     "metadata": {},
     "output_type": "execute_result"
    }
   ],
   "source": [
    "confusion_matrix(y_test, svc_predictions)"
   ]
  },
  {
   "cell_type": "code",
   "execution_count": 39,
   "id": "47e42a2f-ce17-4e9b-adda-3621ed606f76",
   "metadata": {},
   "outputs": [
    {
     "name": "stdout",
     "output_type": "stream",
     "text": [
      "              precision    recall  f1-score   support\n",
      "\n",
      "       DrugY       0.81      0.91      0.86        23\n",
      "       drugA       0.89      1.00      0.94         8\n",
      "       drugB       0.80      0.80      0.80         5\n",
      "       drugC       1.00      0.60      0.75        10\n",
      "       drugX       0.93      0.93      0.93        14\n",
      "\n",
      "    accuracy                           0.87        60\n",
      "   macro avg       0.89      0.85      0.86        60\n",
      "weighted avg       0.88      0.87      0.86        60\n",
      "\n"
     ]
    }
   ],
   "source": [
    "print(classification_report(y_test, svc_predictions))"
   ]
  },
  {
   "cell_type": "code",
   "execution_count": 43,
   "id": "cc56147d-f1ff-4e20-87ff-4ce44294b455",
   "metadata": {},
   "outputs": [],
   "source": [
    "from sklearn.decomposition import PCA\n",
    "from sklearn.preprocessing import LabelEncoder"
   ]
  },
  {
   "cell_type": "code",
   "execution_count": 53,
   "id": "19997342-f0db-4fda-be83-ea86d332920e",
   "metadata": {},
   "outputs": [],
   "source": [
    "for col in categorical:\n",
    "    x_test[col] = LabelEncoder().fit_transform(x_test[col])"
   ]
  },
  {
   "cell_type": "code",
   "execution_count": 54,
   "id": "361a6444-0a24-49a3-85ea-40027a004cc2",
   "metadata": {},
   "outputs": [
    {
     "data": {
      "text/html": [
       "<div>\n",
       "<style scoped>\n",
       "    .dataframe tbody tr th:only-of-type {\n",
       "        vertical-align: middle;\n",
       "    }\n",
       "\n",
       "    .dataframe tbody tr th {\n",
       "        vertical-align: top;\n",
       "    }\n",
       "\n",
       "    .dataframe thead th {\n",
       "        text-align: right;\n",
       "    }\n",
       "</style>\n",
       "<table border=\"1\" class=\"dataframe\">\n",
       "  <thead>\n",
       "    <tr style=\"text-align: right;\">\n",
       "      <th></th>\n",
       "      <th>Age</th>\n",
       "      <th>Sex</th>\n",
       "      <th>BP</th>\n",
       "      <th>Cholesterol</th>\n",
       "      <th>Na_to_K</th>\n",
       "      <th>Drug</th>\n",
       "    </tr>\n",
       "  </thead>\n",
       "  <tbody>\n",
       "    <tr>\n",
       "      <th>0</th>\n",
       "      <td>23</td>\n",
       "      <td>0</td>\n",
       "      <td>0</td>\n",
       "      <td>0</td>\n",
       "      <td>25.355</td>\n",
       "      <td>DrugY</td>\n",
       "    </tr>\n",
       "    <tr>\n",
       "      <th>1</th>\n",
       "      <td>47</td>\n",
       "      <td>1</td>\n",
       "      <td>1</td>\n",
       "      <td>0</td>\n",
       "      <td>13.093</td>\n",
       "      <td>drugC</td>\n",
       "    </tr>\n",
       "    <tr>\n",
       "      <th>2</th>\n",
       "      <td>47</td>\n",
       "      <td>1</td>\n",
       "      <td>1</td>\n",
       "      <td>0</td>\n",
       "      <td>10.114</td>\n",
       "      <td>drugC</td>\n",
       "    </tr>\n",
       "    <tr>\n",
       "      <th>3</th>\n",
       "      <td>28</td>\n",
       "      <td>0</td>\n",
       "      <td>2</td>\n",
       "      <td>0</td>\n",
       "      <td>7.798</td>\n",
       "      <td>drugX</td>\n",
       "    </tr>\n",
       "    <tr>\n",
       "      <th>4</th>\n",
       "      <td>61</td>\n",
       "      <td>0</td>\n",
       "      <td>1</td>\n",
       "      <td>0</td>\n",
       "      <td>18.043</td>\n",
       "      <td>DrugY</td>\n",
       "    </tr>\n",
       "  </tbody>\n",
       "</table>\n",
       "</div>"
      ],
      "text/plain": [
       "   Age  Sex  BP  Cholesterol  Na_to_K   Drug\n",
       "0   23    0   0            0   25.355  DrugY\n",
       "1   47    1   1            0   13.093  drugC\n",
       "2   47    1   1            0   10.114  drugC\n",
       "3   28    0   2            0    7.798  drugX\n",
       "4   61    0   1            0   18.043  DrugY"
      ]
     },
     "execution_count": 54,
     "metadata": {},
     "output_type": "execute_result"
    }
   ],
   "source": [
    "df.head()"
   ]
  },
  {
   "cell_type": "code",
   "execution_count": 55,
   "id": "e31dc539-2429-49d4-ab43-ca3099baec36",
   "metadata": {},
   "outputs": [],
   "source": [
    "pca = PCA(n_components=2).fit(x_test)\n",
    "x_test_2d = pca.transform(x_test)"
   ]
  },
  {
   "cell_type": "code",
   "execution_count": 56,
   "id": "652b6684-bf09-4c7b-94c4-08193ff96218",
   "metadata": {},
   "outputs": [
    {
     "data": {
      "text/plain": [
       "array([[-1.02280317e+01,  5.07723376e+00],\n",
       "       [ 2.73251418e+01, -3.14814704e+00],\n",
       "       [ 7.13175220e+00, -5.50758652e+00],\n",
       "       [-2.53822736e+01,  3.21865133e+00],\n",
       "       [-2.70794196e+01,  7.97426641e+00],\n",
       "       [-6.64987516e+00, -1.76330526e+00],\n",
       "       [ 1.05059870e+01,  1.30200432e-01],\n",
       "       [-1.85523276e+01,  2.53204576e-01],\n",
       "       [ 3.04653685e+01, -1.13083033e+00],\n",
       "       [ 1.13321354e+01, -2.53651542e+00],\n",
       "       [ 2.63159029e+01,  1.22737419e+01],\n",
       "       [ 5.21449804e+00, -4.03580955e+00],\n",
       "       [-2.59932900e+01, -6.29822045e+00],\n",
       "       [-2.07433594e+01, -2.51491825e+00],\n",
       "       [-2.62382455e+01,  5.34892548e+00],\n",
       "       [-4.72986599e+00, -3.04772092e+00],\n",
       "       [-1.91377475e-02, -7.47009460e+00],\n",
       "       [-2.80060911e+00, -4.01975910e+00],\n",
       "       [-1.71854387e+01,  2.14473360e+01],\n",
       "       [-7.24079779e-01, -2.91493370e+00],\n",
       "       [ 5.39181188e+00,  1.42359918e+01],\n",
       "       [-3.05903903e+00, -8.23758578e+00],\n",
       "       [-9.80221738e+00,  1.18053109e+01],\n",
       "       [ 4.86835754e+00,  6.03533204e+00],\n",
       "       [-9.89582947e+00, -5.16279580e+00],\n",
       "       [ 2.29369931e+01, -8.92362251e+00],\n",
       "       [ 2.39895060e+01, -8.13712791e+00],\n",
       "       [-6.41148340e-01, -1.59891946e+00],\n",
       "       [-5.84485601e+00, -4.49453562e+00],\n",
       "       [-2.17658413e+01, -3.09824987e+00],\n",
       "       [ 7.29698135e+00,  1.26728319e+01],\n",
       "       [-4.29013869e+00,  3.87376556e+00],\n",
       "       [-1.35503945e+01,  1.02928336e-01],\n",
       "       [ 2.02810023e+01, -3.68823259e+00],\n",
       "       [ 2.32453542e+01, -4.00061825e+00],\n",
       "       [ 9.57572986e+00,  1.39234823e+00],\n",
       "       [-9.00164714e+00, -6.91489965e+00],\n",
       "       [ 1.83228468e+01, -2.78098976e+00],\n",
       "       [-1.08047233e+01, -4.04946357e+00],\n",
       "       [ 1.41903281e+01, -4.79188054e+00],\n",
       "       [ 4.79144538e+00,  4.98183931e+00],\n",
       "       [ 1.66573511e+00,  3.11809865e+00],\n",
       "       [ 2.77605378e+01,  1.91920412e+01],\n",
       "       [ 4.34223694e+00, -2.20745379e+00],\n",
       "       [-8.32949698e-01, -4.61063457e+00],\n",
       "       [ 3.49660085e+00,  4.20914059e-01],\n",
       "       [ 3.75773967e+00,  4.41575132e+00],\n",
       "       [-2.90335505e+00, -5.81273354e+00],\n",
       "       [ 1.41646445e+01, -5.31204735e+00],\n",
       "       [ 2.08204860e+01,  4.85893403e+00],\n",
       "       [-1.93831782e+01,  2.89591561e+00],\n",
       "       [ 5.71521654e+00,  3.66627794e+00],\n",
       "       [-2.76457486e+00, -3.53103276e+00],\n",
       "       [-2.27959769e+01, -3.22341536e+00],\n",
       "       [ 2.33635532e+01, -2.23213649e+00],\n",
       "       [-1.27834361e+01, -3.46240896e+00],\n",
       "       [-2.44056500e+00,  1.68391518e+00],\n",
       "       [-1.48547110e+01, -4.36526083e+00],\n",
       "       [-1.79560856e+01, -5.84996247e+00],\n",
       "       [-6.57127149e+00, -2.01907367e-01]])"
      ]
     },
     "execution_count": 56,
     "metadata": {},
     "output_type": "execute_result"
    }
   ],
   "source": [
    "x_test_2d"
   ]
  },
  {
   "cell_type": "code",
   "execution_count": 60,
   "id": "15b33680-9784-4e95-810d-391180d98100",
   "metadata": {},
   "outputs": [],
   "source": [
    "def plot_categories(samples, categories):\n",
    "    col_dic = {\"DrugY\": \"blue\", \"drugC\": \"green\", \"drugX\": \"orange\", \"drugA\": \"brown\", \"drugB\": \"red\"}\n",
    "    mrk_dic = {\"DrugY\": \"*\", \"drugC\": \"x\", \"drugX\": \"+\", \"drugA\": \"*\", \"drugB\": \"x\"}\n",
    "    colors = [col_dic[x] for x in categories]\n",
    "    markers = [mrk_dic[x] for x in categories]\n",
    "    for sample in range(len(categories)):\n",
    "        plt.scatter(samples[sample][0], samples[sample][1], color = colors[sample], marker=markers[sample], s=100)\n",
    "    plt.xlabel('Dimension 1')\n",
    "    plt.ylabel('Dimension 2')\n",
    "    plt.title('Assignments')\n",
    "    plt.show()"
   ]
  },
  {
   "cell_type": "code",
   "execution_count": 61,
   "id": "e6ba4534-f014-45cd-a497-e6316a238c3b",
   "metadata": {},
   "outputs": [
    {
     "data": {
      "image/png": "[encoded data removed]",
      "text/plain": [
       "<Figure size 432x288 with 1 Axes>"
      ]
     },
     "metadata": {
      "needs_background": "light"
     },
     "output_type": "display_data"
    }
   ],
   "source": [
    "plot_categories(x_test_2d, r_forest_predictions)"
   ]
  },
  {
   "cell_type": "code",
   "execution_count": null,
   "id": "0d1b1baa-f3d1-4f95-a663-91c28cef4a56",
   "metadata": {},
   "outputs": [],
   "source": []
  }
 ],
 "metadata": {
  "kernelspec": {
   "display_name": "Python 3 (ipykernel)",
   "language": "python",
   "name": "python3"
  },
  "language_info": {
   "codemirror_mode": {
    "name": "ipython",
    "version": 3
   },
   "file_extension": ".py",
   "mimetype": "text/x-python",
   "name": "python",
   "nbconvert_exporter": "python",
   "pygments_lexer": "ipython3",
   "version": "3.9.4"
  }
 },
 "nbformat": 4,
 "nbformat_minor": 5
}
